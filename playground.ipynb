{
 "cells": [
  {
   "cell_type": "code",
   "execution_count": 3,
   "metadata": {},
   "outputs": [],
   "source": [
    "from llm_sandbox import SandboxSession\n",
    "from llm_sandbox.utils import parse_time_v_output"
   ]
  },
  {
   "cell_type": "code",
   "execution_count": 2,
   "metadata": {},
   "outputs": [
    {
     "name": "stdout",
     "output_type": "stream",
     "text": [
      "Hello, World!\n",
      "\n",
      "{'command': 'python /tmp/code.py', 'user_time': 0.01, 'system_time': 0.0, 'cpu_percent': 0, 'elapsed_time_seconds': 10.02, 'avg_shared_text_kb': 0, 'avg_unshared_data_kb': 0, 'avg_stack_size_kb': 0, 'avg_total_size_kb': 0, 'max_resident_set_kb': 7032, 'major_page_faults': 0, 'minor_page_faults': 765, 'voluntary_context_switches': 2, 'involuntary_context_switches': 0, 'swaps': 0, 'file_system_inputs': 0, 'file_system_outputs': 0, 'socket_messages_sent': 0, 'socket_messages_received': 0, 'signals_delivered': 0, 'page_size_bytes': 4096, 'exit_status': 0}\n"
     ]
    }
   ],
   "source": [
    "with SandboxSession(lang=\"python\", keep_template=False, verbose=False) as session:\n",
    "    output = session.run(\"import time\\ntime.sleep(10)\\nprint('Hello, World!')\")\n",
    "    print(output.stdout)\n",
    "    print(parse_time_v_output(output.stderr))"
   ]
  },
  {
   "cell_type": "code",
   "execution_count": 27,
   "metadata": {},
   "outputs": [
    {
     "name": "stdout",
     "output_type": "stream",
     "text": [
      "Hello, World!\n",
      "\n",
      "{'command': 'java /tmp/code.java', 'user_time': 0.97, 'system_time': 0.08, 'cpu_percent': 240, 'elapsed_time_seconds': 0.43, 'avg_shared_text_kb': 0, 'avg_unshared_data_kb': 0, 'avg_stack_size_kb': 0, 'avg_total_size_kb': 0, 'max_resident_set_kb': 87720, 'major_page_faults': 0, 'minor_page_faults': 10031, 'voluntary_context_switches': 1343, 'involuntary_context_switches': 12, 'swaps': 0, 'file_system_inputs': 0, 'file_system_outputs': 64, 'socket_messages_sent': 0, 'socket_messages_received': 0, 'signals_delivered': 0, 'page_size_bytes': 4096, 'exit_status': 0}\n"
     ]
    }
   ],
   "source": [
    "with SandboxSession(lang=\"java\", keep_template=False, verbose=False) as session:\n",
    "    output = session.run(\n",
    "        \"\"\"\n",
    "        public class Main {\n",
    "            public static void main(String[] args) {\n",
    "                System.out.println(\"Hello, World!\");\n",
    "            }\n",
    "        }\n",
    "        \"\"\",\n",
    "    )\n",
    "    print(output.stdout)\n",
    "    print(parse_time_v_output(output.stderr))"
   ]
  },
  {
   "cell_type": "code",
   "execution_count": 28,
   "metadata": {},
   "outputs": [
    {
     "name": "stdout",
     "output_type": "stream",
     "text": [
      "{\n",
      "  userId: 1,\n",
      "  id: 1,\n",
      "  title: 'sunt aut facere repellat provident occaecati excepturi optio reprehenderit',\n",
      "  body: 'quia et suscipit\\n' +\n",
      "    'suscipit recusandae consequuntur expedita et cum\\n' +\n",
      "    'reprehenderit molestiae ut ut quas totam\\n' +\n",
      "    'nostrum rerum est autem sunt rem eveniet architecto'\n",
      "}\n",
      "\n",
      "{'command': 'node /tmp/code.js', 'user_time': 0.09, 'system_time': 0.03, 'cpu_percent': 92, 'elapsed_time_seconds': 0.14, 'avg_shared_text_kb': 0, 'avg_unshared_data_kb': 0, 'avg_stack_size_kb': 0, 'avg_total_size_kb': 0, 'max_resident_set_kb': 69844, 'major_page_faults': 0, 'minor_page_faults': 5869, 'voluntary_context_switches': 96, 'involuntary_context_switches': 3, 'swaps': 0, 'file_system_inputs': 0, 'file_system_outputs': 0, 'socket_messages_sent': 0, 'socket_messages_received': 0, 'signals_delivered': 0, 'page_size_bytes': 4096, 'exit_status': 0}\n"
     ]
    }
   ],
   "source": [
    "with SandboxSession(lang=\"javascript\", keep_template=True, verbose=False) as session:\n",
    "    session.setup(libraries=[\"axios\"])\n",
    "    output = session.run(\n",
    "        \"\"\"\n",
    "        const axios = require('axios');\n",
    "        axios.get('https://jsonplaceholder.typicode.com/posts/1')\n",
    "            .then(response => console.log(response.data));\n",
    "        \"\"\"\n",
    "    )\n",
    "    print(output.stdout)\n",
    "    print(parse_time_v_output(output.stderr))"
   ]
  },
  {
   "cell_type": "code",
   "execution_count": 29,
   "metadata": {},
   "outputs": [
    {
     "name": "stdout",
     "output_type": "stream",
     "text": [
      "5 4 3 2 1 \n",
      "\n",
      "{'command': './a.out', 'user_time': 0.0, 'system_time': 0.0, 'cpu_percent': 50, 'elapsed_time_seconds': 0.0, 'avg_shared_text_kb': 0, 'avg_unshared_data_kb': 0, 'avg_stack_size_kb': 0, 'avg_total_size_kb': 0, 'max_resident_set_kb': 3324, 'major_page_faults': 0, 'minor_page_faults': 137, 'voluntary_context_switches': 2, 'involuntary_context_switches': 1, 'swaps': 0, 'file_system_inputs': 0, 'file_system_outputs': 0, 'socket_messages_sent': 0, 'socket_messages_received': 0, 'signals_delivered': 0, 'page_size_bytes': 4096, 'exit_status': 0}\n"
     ]
    }
   ],
   "source": [
    "with SandboxSession(lang=\"cpp\", keep_template=True, verbose=False) as session:\n",
    "    # run with libraries\n",
    "    session.setup(libraries=[\"libstdc++\"])\n",
    "    output = session.run(\n",
    "        \"\"\"\n",
    "        #include <iostream>\n",
    "        #include <vector>\n",
    "        #include <algorithm>\n",
    "        int main() {\n",
    "            std::vector<int> v = {1, 2, 3, 4, 5};\n",
    "            std::reverse(v.begin(), v.end());\n",
    "            for (int i : v) {\n",
    "                std::cout << i << \" \";\n",
    "            }\n",
    "            std::cout << std::endl;\n",
    "            return 0;\n",
    "        }\n",
    "        \"\"\"\n",
    "    )\n",
    "    print(output.stdout)\n",
    "    print(parse_time_v_output(output.stderr))"
   ]
  },
  {
   "cell_type": "code",
   "execution_count": 30,
   "metadata": {},
   "outputs": [
    {
     "name": "stdout",
     "output_type": "stream",
     "text": [
      "Hello, World!\n",
      "{\"currency\":\"EUR\",\"price\":125}\n",
      "{'command': 'go run /go_space/code.go', 'user_time': 0.18, 'system_time': 0.12, 'cpu_percent': 174, 'elapsed_time_seconds': 0.17, 'avg_shared_text_kb': 0, 'avg_unshared_data_kb': 0, 'avg_stack_size_kb': 0, 'avg_total_size_kb': 0, 'max_resident_set_kb': 50256, 'major_page_faults': 17, 'minor_page_faults': 7669, 'voluntary_context_switches': 1533, 'involuntary_context_switches': 102, 'swaps': 0, 'file_system_inputs': 0, 'file_system_outputs': 3392, 'socket_messages_sent': 0, 'socket_messages_received': 0, 'signals_delivered': 0, 'page_size_bytes': 4096, 'exit_status': 0}\n"
     ]
    }
   ],
   "source": [
    "with SandboxSession(lang=\"go\", keep_template=True, verbose=False) as session:\n",
    "    # run with libraries\n",
    "    session.setup(libraries=[\"github.com/spyzhov/ajson\"])\n",
    "    output = session.run(\n",
    "        \"\"\"\n",
    "        package main\n",
    "        import (\n",
    "            \"fmt\"\n",
    "            \"github.com/spyzhov/ajson\"\n",
    "        )\n",
    "        func main() {\n",
    "            fmt.Println(\"Hello, World!\")\n",
    "            json := []byte(`{\"price\": 100}`)\n",
    "\n",
    "            root, _ := ajson.Unmarshal(json)\n",
    "            nodes, _ := root.JSONPath(\"$..price\")\n",
    "            for _, node := range nodes {\n",
    "                node.SetNumeric(node.MustNumeric() * 1.25)\n",
    "                node.Parent().AppendObject(\"currency\", ajson.StringNode(\"\", \"EUR\"))\n",
    "            }\n",
    "            result, _ := ajson.Marshal(root)\n",
    "\n",
    "            fmt.Printf(\"%s\", result)\n",
    "        }\n",
    "        \"\"\"\n",
    "    )\n",
    "    print(output.stdout)\n",
    "    print(parse_time_v_output(output.stderr))"
   ]
  },
  {
   "cell_type": "code",
   "execution_count": null,
   "metadata": {},
   "outputs": [],
   "source": []
  }
 ],
 "metadata": {
  "kernelspec": {
   "display_name": "monolith",
   "language": "python",
   "name": "python3"
  },
  "language_info": {
   "codemirror_mode": {
    "name": "ipython",
    "version": 3
   },
   "file_extension": ".py",
   "mimetype": "text/x-python",
   "name": "python",
   "nbconvert_exporter": "python",
   "pygments_lexer": "ipython3",
   "version": "3.12.8"
  }
 },
 "nbformat": 4,
 "nbformat_minor": 2
}
