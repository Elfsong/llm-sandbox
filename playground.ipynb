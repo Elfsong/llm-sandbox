{
 "cells": [
  {
   "cell_type": "code",
   "execution_count": 1,
   "metadata": {},
   "outputs": [],
   "source": [
    "from llm_sandbox import SandboxSession\n",
    "from llm_sandbox.utils import parse_time_v_output"
   ]
  },
  {
   "cell_type": "code",
   "execution_count": null,
   "metadata": {},
   "outputs": [],
   "source": [
    "with SandboxSession(lang=\"python\", keep_template=False, verbose=False) as session:\n",
    "    output = session.run(\"\"\"import time\n",
    "for i in range(3):\n",
    "    time.sleep(1)\n",
    "    data = bytearray(i * 1024 * 1024)\"\"\")\n",
    "    print(output.stdout)\n",
    "\n",
    "    output = session.execute_command('cat mem_usage.log')\n",
    "    print(output.stdout)"
   ]
  },
  {
   "cell_type": "code",
   "execution_count": null,
   "metadata": {},
   "outputs": [],
   "source": [
    "with SandboxSession(lang=\"java\", keep_template=False, verbose=False) as session:\n",
    "    output = session.run(\n",
    "        \"\"\"\n",
    "        public class Main {\n",
    "            public static void main(String[] args) {\n",
    "                System.out.println(\"Hello, World!\");\n",
    "            }\n",
    "        }\n",
    "        \"\"\",\n",
    "    )\n",
    "    print(output.stdout)\n",
    "\n",
    "    output = session.execute_command('cat mem_usage.log')\n",
    "    print(output.stdout)\n",
    "    "
   ]
  },
  {
   "cell_type": "code",
   "execution_count": null,
   "metadata": {},
   "outputs": [],
   "source": [
    "with SandboxSession(lang=\"javascript\", keep_template=True, verbose=False) as session:\n",
    "    session.setup(libraries=[\"axios\"])\n",
    "    output = session.run(\n",
    "        \"\"\"\n",
    "        const axios = require('axios');\n",
    "        axios.get('https://jsonplaceholder.typicode.com/posts/1')\n",
    "            .then(response => console.log(response.data));\n",
    "        \"\"\"\n",
    "    )\n",
    "    print(output.stdout)\n",
    "    \n",
    "    output = session.execute_command('cat mem_usage.log')\n",
    "    print(output.stdout)"
   ]
  },
  {
   "cell_type": "code",
   "execution_count": 10,
   "metadata": {},
   "outputs": [
    {
     "name": "stdout",
     "output_type": "stream",
     "text": [
      "None\n"
     ]
    }
   ],
   "source": [
    "with SandboxSession(lang=\"cpp\", keep_template=True, verbose=False) as session:\n",
    "    # run with libraries\n",
    "    # session.setup(libraries=[\"libstdc++\"])\n",
    "    # output = session.run(\n",
    "    #     \"\"\"\n",
    "    #     #include <unistd.h>\n",
    "    #     int main() {\n",
    "    #         return 0;\n",
    "    #     }\n",
    "    #     \"\"\"\n",
    "    # )\n",
    "    # print(output.stdout)\n",
    "    output = session.execute_command('cat mem_usage.log')\n",
    "    print(output.stdout)"
   ]
  },
  {
   "cell_type": "code",
   "execution_count": null,
   "metadata": {},
   "outputs": [],
   "source": [
    "with SandboxSession(lang=\"go\", keep_template=True, verbose=False) as session:\n",
    "    # run with libraries\n",
    "    session.setup(libraries=[\"github.com/spyzhov/ajson\"])\n",
    "    output = session.run(\n",
    "        \"\"\"\n",
    "        package main\n",
    "        import (\n",
    "            \"fmt\"\n",
    "            \"github.com/spyzhov/ajson\"\n",
    "        )\n",
    "        func main() {\n",
    "            fmt.Println(\"Hello, World!\")\n",
    "            json := []byte(`{\"price\": 100}`)\n",
    "\n",
    "            root, _ := ajson.Unmarshal(json)\n",
    "            nodes, _ := root.JSONPath(\"$..price\")\n",
    "            for _, node := range nodes {\n",
    "                node.SetNumeric(node.MustNumeric() * 1.25)\n",
    "                node.Parent().AppendObject(\"currency\", ajson.StringNode(\"\", \"EUR\"))\n",
    "            }\n",
    "            result, _ := ajson.Marshal(root)\n",
    "\n",
    "            fmt.Printf(\"%s\", result)\n",
    "        }\n",
    "        \"\"\"\n",
    "    )\n",
    "    print(output.stdout)\n",
    "    output = session.execute_command('cat /go_space/mem_usage.log')\n",
    "    print(output.stdout)"
   ]
  },
  {
   "cell_type": "code",
   "execution_count": null,
   "metadata": {},
   "outputs": [],
   "source": []
  }
 ],
 "metadata": {
  "kernelspec": {
   "display_name": "monolith",
   "language": "python",
   "name": "python3"
  },
  "language_info": {
   "codemirror_mode": {
    "name": "ipython",
    "version": 3
   },
   "file_extension": ".py",
   "mimetype": "text/x-python",
   "name": "python",
   "nbconvert_exporter": "python",
   "pygments_lexer": "ipython3",
   "version": "3.12.8"
  }
 },
 "nbformat": 4,
 "nbformat_minor": 2
}
